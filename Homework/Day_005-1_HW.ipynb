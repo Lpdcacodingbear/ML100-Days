{
 "cells": [
  {
   "cell_type": "markdown",
   "metadata": {},
   "source": [
    "# [作業目標]\n",
    "- 利用範例的創建方式, 創建一組資料, 並練習如何取出最大值"
   ]
  },
  {
   "cell_type": "markdown",
   "metadata": {},
   "source": [
    "# [作業重點]\n",
    "- 練習創立 DataFrame (In[2])\n",
    "- 如何取出口數最多的國家 (In[3], Out[3])"
   ]
  },
  {
   "cell_type": "markdown",
   "metadata": {},
   "source": [
    "## 練習時間\n",
    "在小量的資料上，我們用眼睛就可以看得出來程式碼是否有跑出我們理想中的結果\n",
    "\n",
    "請嘗試想像一個你需要的資料結構 (裡面的值可以是隨機的)，然後用上述的方法把它變成 pandas DataFrame\n",
    "\n",
    "#### Ex: 想像一個 dataframe 有兩個欄位，一個是國家，一個是人口，求人口數最多的國家\n",
    "\n",
    "### Hints: [隨機產生數值](https://blog.csdn.net/christianashannon/article/details/78867204)"
   ]
  },
  {
   "cell_type": "code",
   "execution_count": 1,
   "metadata": {
    "collapsed": true
   },
   "outputs": [],
   "source": [
    "import pandas as pd\n",
    "import numpy as np"
   ]
  },
  {
   "cell_type": "code",
   "execution_count": null,
   "metadata": {
    "collapsed": true
   },
   "outputs": [],
   "source": [
    "# Set a random seed for reproducibility\n",
    "np.random.seed(0)\n",
    "\n",
    "countries = ['USA', 'China', 'India', 'Brazil', 'Russia']\n",
    "\n",
    "# Use the rand function to generate random population numbers (between 0 and 1)\n",
    "population = np.random.rand(len(countries)) * 1000000  # Multiply by 1000000 to scale the data range\n",
    "\n",
    "# Alternatively, use the randn function to generate random population numbers (with a mean of 0 in a normal distribution)\n",
    "# population = (np.random.randn(len(countries)) * 500000) + 1500000  # Adjust mean and standard deviation to control the data range\n",
    "\n",
    "# Create a NumPy array containing country names and population numbers\n",
    "data = np.array([countries, population]).T\n",
    "\n",
    "# Convert the NumPy array to a Pandas DataFrame\n",
    "df = pd.DataFrame(data, columns=['Country', 'Population'])\n",
    "\n",
    "# Convert the data type of the population numbers to integers\n",
    "# ValueError: invalid literal for int() with base 10: '548813.5039273248'\n",
    "# Solution: https://stackoverflow.com/questions/76007033/valueerror-invalid-literal-for-int-with-base-10-in-python\n",
    "# or convert first to float and then to integer.\n",
    "df['Population'] = df['Population'].astype(float).astype(int)\n",
    "\n",
    "# Find the country with the highest population\n",
    "max_population_country = df[df['Population'] == df['Population'].max()]\n",
    "print(df)"
   ]
  },
  {
   "cell_type": "code",
   "execution_count": null,
   "metadata": {
    "collapsed": true
   },
   "outputs": [],
   "source": [
    "print(f\"人口數最多的國家是：{max_population_country}\")"
   ]
  }
 ],
 "metadata": {
  "kernelspec": {
   "display_name": "Python 3",
   "language": "python",
   "name": "python3"
  },
  "language_info": {
   "codemirror_mode": {
    "name": "ipython",
    "version": 3
   },
   "file_extension": ".py",
   "mimetype": "text/x-python",
   "name": "python",
   "nbconvert_exporter": "python",
   "pygments_lexer": "ipython3",
   "version": "3.6.1"
  }
 },
 "nbformat": 4,
 "nbformat_minor": 2
}
